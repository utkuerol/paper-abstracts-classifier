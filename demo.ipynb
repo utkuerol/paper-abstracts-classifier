{
 "cells": [
  {
   "cell_type": "markdown",
   "metadata": {},
   "source": [
    "# Interactive Demo Script for Predictions \n",
    "\n",
    "This script lets you interactively demonstrate the pretrained models with custom sentences of your choosing.\n",
    "\n",
    "Set the ```MODEL``` variable and change the sentence. \n",
    "\n",
    "*Note:* You need to have trained and saved the models first.  "
   ]
  },
  {
   "cell_type": "code",
   "execution_count": 1,
   "metadata": {},
   "outputs": [
    {
     "name": "stderr",
     "output_type": "stream",
     "text": [
      "[nltk_data] Downloading package stopwords to\n",
      "[nltk_data]     /Users/utkuerol/nltk_data...\n",
      "[nltk_data]   Package stopwords is already up-to-date!\n"
     ]
    },
    {
     "name": "stdout",
     "output_type": "stream",
     "text": [
      "['results_findings']\n"
     ]
    }
   ],
   "source": [
    "from dill import load\n",
    "from preprocessing.preprocess import Preprocesser\n",
    "\n",
    "# Set this to the path of the saved classifier model object\n",
    "MODEL_PATH = \"randomforest\" \n",
    "\n",
    "preprocesser = Preprocesser(data_path=\"\", remove_punct=True, lower_case=True,\n",
    "                            remove_stop_words=False, stemming=False)\n",
    "\n",
    "with open(\"{}.obj\".format(MODEL_PATH), 'rb') as f:\n",
    "    model = load(f)\n",
    "    s = \"For instance, we observed that all practitioners were aware of data privacy concerns, however, they did not know that certain third-party libraries\"\n",
    "    s = preprocesser.preprocess(s)\n",
    "    print(model.predict(s))"
   ]
  }
 ],
 "metadata": {
  "interpreter": {
   "hash": "6e79f4fdad415458b7ed52ba841f0bdaf70ed7f8d5b48b56eb736fa01e234f19"
  },
  "kernelspec": {
   "display_name": "Python 3.8.12 ('nlp')",
   "language": "python",
   "name": "python3"
  },
  "language_info": {
   "codemirror_mode": {
    "name": "ipython",
    "version": 3
   },
   "file_extension": ".py",
   "mimetype": "text/x-python",
   "name": "python",
   "nbconvert_exporter": "python",
   "pygments_lexer": "ipython3",
   "version": "3.9.12"
  },
  "orig_nbformat": 4
 },
 "nbformat": 4,
 "nbformat_minor": 2
}
